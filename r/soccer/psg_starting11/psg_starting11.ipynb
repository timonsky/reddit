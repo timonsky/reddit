{
 "cells": [
  {
   "cell_type": "code",
   "execution_count": 13,
   "id": "8f4ea07b-0429-46d1-9611-9c6c3a26e45d",
   "metadata": {},
   "outputs": [],
   "source": [
    "def souping(URL):\n",
    "    import requests\n",
    "    from bs4 import BeautifulSoup\n",
    "    \n",
    "    HEADERS = {'User-Agent':\\\n",
    "                'Mozilla/5.0 (X11; Linux x86_64) AppleWebKit/537.36 (KHTML, like Gecko)\\\n",
    "                    Chrome/47.0.2526.106 Safari/537.36'}\n",
    "    HEADERS = {'User-Agent': 'Mozilla/5.0 (X11; Linux x86_64) AppleWebKit/537.36 (KHTML, like Gecko) Chrome/97.0.4692.71 Safari/537.36'}\n",
    "    \n",
    "    pageTree = requests.get(URL, headers=HEADERS)\n",
    "    soup = BeautifulSoup(pageTree.content, \"html.parser\")\n",
    "\n",
    "    return soup\n"
   ]
  },
  {
   "cell_type": "code",
   "execution_count": 14,
   "id": "6fdad140-54d7-47fe-aab2-8fcc1ac3d296",
   "metadata": {},
   "outputs": [],
   "source": [
    "base= \"https://www.transfermarkt.com\"\n",
    "url = \"https://www.transfermarkt.com/fc-paris-saint-germain/spielplandatum/verein/583/saison_id//wettbewerb_id//datum_von/2019-08-01/datum_bis/2022-01-12/day/0\""
   ]
  },
  {
   "cell_type": "code",
   "execution_count": 40,
   "id": "a46ee990-4de7-4553-ac11-7fcfa873e825",
   "metadata": {},
   "outputs": [],
   "source": [
    "start = souping(url)"
   ]
  },
  {
   "cell_type": "code",
   "execution_count": 15,
   "id": "c3e295b0-f5f4-430f-8f86-793d6e843b5d",
   "metadata": {},
   "outputs": [],
   "source": [
    "import pandas as pd"
   ]
  },
  {
   "cell_type": "code",
   "execution_count": 43,
   "id": "4385df43-9026-488b-a519-dfc47f4fb5dd",
   "metadata": {},
   "outputs": [],
   "source": [
    "table = start.find('div', {'class': 'responsive-table'})\n",
    "df=pd.read_html(str(table))[0]\n",
    "x=df\n",
    "x.drop(x[x['Unnamed: 11'].map(type)!=type(float())].index, inplace=True)\n",
    "x.reset_index(drop=True, inplace=True)\n",
    "x.dropna(axis=1,how='all', inplace=True)\n",
    "x['link'] = [i['href'].replace('index','aufstellung') for i in table.find_all('a',{'class':'ergebnis-link'})]\n",
    "x"
   ]
  },
  {
   "cell_type": "markdown",
   "id": "6195bcef-9858-46ce-9cc8-e435d507da79",
   "metadata": {},
   "source": [
    "x.to_csv('psg_starting11.csv', index=False)\n",
    "\n",
    "x = pd.read_csv('psg_starting11.csv')"
   ]
  },
  {
   "cell_type": "code",
   "execution_count": 16,
   "id": "cd3d8fb0-b8bb-4d26-84a8-70347590f9ac",
   "metadata": {},
   "outputs": [
    {
     "name": "stdout",
     "output_type": "stream",
     "text": [
      "[######################################################################################################################################] - 100.00%\r"
     ]
    }
   ],
   "source": [
    "coaches, lineups = [],[]\n",
    "\n",
    "loadbarwidth=len(x)-1\n",
    "\n",
    "for i in x.index:\n",
    "    strbarwidth = '[{}{}] - {}\\r'.format(\n",
    "        (i * '#'),\n",
    "        ((loadbarwidth - i) * '-'),\n",
    "        (('{:0.2f}'.format(((i) * (100/loadbarwidth))) + '%'))\n",
    "    )\n",
    "\n",
    "    print(strbarwidth ,end = '')\n",
    "    \n",
    "    i = x.iloc[i]\n",
    "    \n",
    "    game=souping(base+i.link)\n",
    "    lineuptables=pd.read_html(str(game.find_all('table',{'class':'items'})))\n",
    "    \n",
    "    if i.Venue=='H':\n",
    "        lineup=lineuptables[0]\n",
    "        coach =lineuptables[-3][1][0]\n",
    "    else:\n",
    "        lineup=lineuptables[12]\n",
    "        coach=lineuptables[-1][1][0]\n",
    "\n",
    "    players = [player.split('(')[0] for player in lineup[1]]\n",
    "\n",
    "    lineups.append(players)\n",
    "    coaches.append(coach)\n",
    "    \n",
    "\n",
    "\n",
    "x['coach'] = coaches\n",
    "x['lineup'] = [ [player[:-1] for player in lineups[i]] for i in range(len(lineups))]"
   ]
  },
  {
   "cell_type": "markdown",
   "id": "23ba6524-a9ea-4adb-9cad-637d3adc630f",
   "metadata": {},
   "source": [
    "x.to_csv('psg_starting11.csv', index=False)"
   ]
  },
  {
   "cell_type": "markdown",
   "id": "326fea60-998b-480c-b279-0cd95198023f",
   "metadata": {},
   "source": [
    "import pandas as pd\n",
    "x = pd.read_csv('psg_starting11.csv')\n",
    "x"
   ]
  },
  {
   "cell_type": "code",
   "execution_count": 108,
   "id": "9a72dd0a-2037-47c3-bb67-8b87c47882c5",
   "metadata": {},
   "outputs": [],
   "source": [
    "import collections"
   ]
  },
  {
   "cell_type": "code",
   "execution_count": 76,
   "id": "683278e7-208c-445f-ac96-ca2cf926563b",
   "metadata": {},
   "outputs": [
    {
     "name": "stdout",
     "output_type": "stream",
     "text": [
      "done\n"
     ]
    }
   ],
   "source": [
    "#check consecutive lineups\n",
    "for i in range(len(x)-1):\n",
    "    if collections.Counter(x.lineup[i])==collections.Counter(x.lineup[i+1]):\n",
    "        print(i)\n",
    "print('done')"
   ]
  },
  {
   "cell_type": "code",
   "execution_count": 107,
   "id": "3bd4efa0-3fa9-4609-8bb0-36a694b0d284",
   "metadata": {},
   "outputs": [
    {
     "name": "stdout",
     "output_type": "stream",
     "text": [
      "3.73%[[6, 10]]\n",
      "16.42%[[23, 25]]\n",
      "24.63%[[34, 35]]\n",
      "99.25%\n",
      "done\n"
     ]
    }
   ],
   "source": [
    "#check any lineup\n",
    "for i in range(len(x)-1):\n",
    "    for j in range(i+1, len(x)-1):\n",
    "        if set(x.lineup_sorted[i])==set(x.lineup_sorted[j]):\n",
    "            print([[i,j]])\n",
    "    print(f'\\r{i/(len(x)-1)*100:0.2f}%', end='')\n",
    "print('\\ndone')"
   ]
  },
  {
   "cell_type": "code",
   "execution_count": 106,
   "id": "9fcafd9e-3743-4275-a605-f655702553f9",
   "metadata": {},
   "outputs": [
    {
     "data": {
      "text/plain": [
       "False"
      ]
     },
     "execution_count": 106,
     "metadata": {},
     "output_type": "execute_result"
    }
   ],
   "source": [
    "(x.lineup_sorted[34])==( x.lineup_sorted[35])"
   ]
  },
  {
   "cell_type": "code",
   "execution_count": 109,
   "id": "8ee41557-a5a6-40cb-84df-18506a39f9d1",
   "metadata": {},
   "outputs": [
    {
     "data": {
      "text/plain": [
       "('So. 15.12.19', 'Sa. 21.12.19')"
      ]
     },
     "execution_count": 109,
     "metadata": {},
     "output_type": "execute_result"
    }
   ],
   "source": [
    "x.Date[23],x.Date[25]"
   ]
  },
  {
   "cell_type": "code",
   "execution_count": null,
   "id": "c3495674-46bb-4ac5-b92a-e193615bd016",
   "metadata": {},
   "outputs": [],
   "source": []
  }
 ],
 "metadata": {
  "kernelspec": {
   "display_name": "Python 3 (ipykernel)",
   "language": "python",
   "name": "python3"
  },
  "language_info": {
   "codemirror_mode": {
    "name": "ipython",
    "version": 3
   },
   "file_extension": ".py",
   "mimetype": "text/x-python",
   "name": "python",
   "nbconvert_exporter": "python",
   "pygments_lexer": "ipython3",
   "version": "3.9.2"
  }
 },
 "nbformat": 4,
 "nbformat_minor": 5
}
